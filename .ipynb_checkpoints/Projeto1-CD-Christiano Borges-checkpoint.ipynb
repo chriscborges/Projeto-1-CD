{
 "cells": [
  {
   "cell_type": "markdown",
   "metadata": {},
   "source": [
    "Introdução:\n",
    "\n",
    "    Este projeto teve como intuito explorar dados reais,que através de uma indagação detalhada, me ajudaram a descobrir se minhas intuições pessoais representavam a realidade ou nao. Primeiramente obtive dados no site Gapminder sobre assuntos que me faziam refletir sobre a relação que eventualmente possuem com o IHD (índice de desenvolvimento humano), e depois formulei uma pergunta problema para me direcionar a exploração dos dados.Segue abaixo a pergunta problema:"
   ]
  },
  {
   "cell_type": "markdown",
   "metadata": {},
   "source": [
    "   Um país com acesso básico a água, ou uma alta produção de energia, necessariamente possui um alto IDH (Indice de desenvolvimento humano)? Além disso, existe alguma correlação entre acesso básico a água e geração de energia?\n"
   ]
  },
  {
   "cell_type": "markdown",
   "metadata": {},
   "source": [
    "A minha pergunta busca responder sobre uma percepção que tenho sobre os temas. Esta percepção se baseia na ideia de que quanto maior acesso básico a água uma população possui, maior será seu índice de desenvolvimento (IDH). Além do meu senso comum de que um país com IDH alto (mais desenvolvido) provavelmente produz mais energia. Vale lembrar que os dados sobre acesso básico a água são medidos em porcentagem em relação a população, e a produção de energia por pessoa. Além disto o ano escolhido para análise foi o de 2012."
   ]
  },
  {
   "cell_type": "code",
   "execution_count": 1,
   "metadata": {},
   "outputs": [],
   "source": [
    "#Importação das bibliotecas:\n",
    "%matplotlib inline\n",
    "import pandas as pd\n",
    "import numpy as np\n",
    "import math as math\n",
    "from scipy import stats\n",
    "import matplotlib.pyplot as plt"
   ]
  },
  {
   "cell_type": "code",
   "execution_count": 2,
   "metadata": {},
   "outputs": [],
   "source": [
    "#leitura dos arquivos em excel:\n",
    "#leitura dos arquivos em excel:\n",
    "hdi = pd.read_excel(\"hdi.xlsx\")\n",
    "water = pd.read_excel(\"water.xlsx\")\n",
    "electricity = pd.read_excel(\"electricity.xlsx\")\n",
    "\n",
    "\n",
    "#electricity.head(3)\n",
    "\n"
   ]
  },
  {
   "cell_type": "code",
   "execution_count": 3,
   "metadata": {},
   "outputs": [],
   "source": [
    "#escolha do ano para investigação\n",
    "\n",
    "hdi_2012 = hdi.loc[:, [\"geo\", 2012]]\n",
    "water_2012 = water.loc[:, [\"geo\", 2012]]\n",
    "electricity_2012 = electricity.loc[:, [\"geo\", 2012]]\n",
    "\n",
    "#electricity_2012.head(3)\n"
   ]
  },
  {
   "cell_type": "code",
   "execution_count": 4,
   "metadata": {},
   "outputs": [
    {
     "data": {
      "text/html": [
       "<div>\n",
       "<style scoped>\n",
       "    .dataframe tbody tr th:only-of-type {\n",
       "        vertical-align: middle;\n",
       "    }\n",
       "\n",
       "    .dataframe tbody tr th {\n",
       "        vertical-align: top;\n",
       "    }\n",
       "\n",
       "    .dataframe thead th {\n",
       "        text-align: right;\n",
       "    }\n",
       "</style>\n",
       "<table border=\"1\" class=\"dataframe\">\n",
       "  <thead>\n",
       "    <tr style=\"text-align: right;\">\n",
       "      <th></th>\n",
       "      <th>Human Development Index(2012)</th>\n",
       "      <th>Basic water(%)(2012)</th>\n",
       "      <th>Electricity Production PP(2012)</th>\n",
       "    </tr>\n",
       "    <tr>\n",
       "      <th>geo</th>\n",
       "      <th></th>\n",
       "      <th></th>\n",
       "      <th></th>\n",
       "    </tr>\n",
       "  </thead>\n",
       "  <tbody>\n",
       "    <tr>\n",
       "      <th>Algeria</th>\n",
       "      <td>0.737</td>\n",
       "      <td>92.8</td>\n",
       "      <td>1530</td>\n",
       "    </tr>\n",
       "    <tr>\n",
       "      <th>Argentina</th>\n",
       "      <td>0.823</td>\n",
       "      <td>99.5</td>\n",
       "      <td>3230</td>\n",
       "    </tr>\n",
       "    <tr>\n",
       "      <th>Australia</th>\n",
       "      <td>0.933</td>\n",
       "      <td>99.9</td>\n",
       "      <td>11000</td>\n",
       "    </tr>\n",
       "  </tbody>\n",
       "</table>\n",
       "</div>"
      ],
      "text/plain": [
       "           Human Development Index(2012)  Basic water(%)(2012)  \\\n",
       "geo                                                              \n",
       "Algeria                            0.737                  92.8   \n",
       "Argentina                          0.823                  99.5   \n",
       "Australia                          0.933                  99.9   \n",
       "\n",
       "           Electricity Production PP(2012)  \n",
       "geo                                         \n",
       "Algeria                               1530  \n",
       "Argentina                             3230  \n",
       "Australia                            11000  "
      ]
     },
     "execution_count": 4,
     "metadata": {},
     "output_type": "execute_result"
    }
   ],
   "source": [
    "#Método Join() e rename\n",
    "\n",
    "hdi_idx = hdi_2012.set_index(\"geo\")\n",
    "water_idx = water_2012.set_index(\"geo\")\n",
    "electricity_idx = electricity_2012.set_index(\"geo\")\n",
    "\n",
    "my_data = hdi_idx.join(water_idx, how='inner', lsuffix='Human Development Index', rsuffix='Basic water(%)')\n",
    "my_data.head(7)\n",
    "data = my_data.join(electricity_idx, how=\"inner\")\n",
    "\n",
    "data2 = data.rename(columns={'2012Human Development Index': 'Human Development Index(2012)', '2012Basic water(%)': 'Basic water(%)(2012)'}, inplace=True)\n",
    "data2 = data.rename(columns={2012:\"Electricity Production PP(2012)\"})\n",
    "data2.head(3)\n"
   ]
  },
  {
   "cell_type": "code",
   "execution_count": 5,
   "metadata": {},
   "outputs": [
    {
     "name": "stdout",
     "output_type": "stream",
     "text": [
      "Ajuste linear entre agua basica e IDH:\n",
      "Coeficiente linear: -0.7124899577572128\n",
      "Coeficiente angular: 0.01568394509381315\n"
     ]
    },
    {
     "data": {
      "text/html": [
       "<div>\n",
       "<style scoped>\n",
       "    .dataframe tbody tr th:only-of-type {\n",
       "        vertical-align: middle;\n",
       "    }\n",
       "\n",
       "    .dataframe tbody tr th {\n",
       "        vertical-align: top;\n",
       "    }\n",
       "\n",
       "    .dataframe thead th {\n",
       "        text-align: right;\n",
       "    }\n",
       "</style>\n",
       "<table border=\"1\" class=\"dataframe\">\n",
       "  <thead>\n",
       "    <tr style=\"text-align: right;\">\n",
       "      <th></th>\n",
       "      <th>Basic water(%)(2012)</th>\n",
       "      <th>Human Development Index(2012)</th>\n",
       "    </tr>\n",
       "  </thead>\n",
       "  <tbody>\n",
       "    <tr>\n",
       "      <th>Basic water(%)(2012)</th>\n",
       "      <td>1.000000</td>\n",
       "      <td>0.741479</td>\n",
       "    </tr>\n",
       "    <tr>\n",
       "      <th>Human Development Index(2012)</th>\n",
       "      <td>0.741479</td>\n",
       "      <td>1.000000</td>\n",
       "    </tr>\n",
       "  </tbody>\n",
       "</table>\n",
       "</div>"
      ],
      "text/plain": [
       "                               Basic water(%)(2012)  \\\n",
       "Basic water(%)(2012)                       1.000000   \n",
       "Human Development Index(2012)              0.741479   \n",
       "\n",
       "                               Human Development Index(2012)  \n",
       "Basic water(%)(2012)                                0.741479  \n",
       "Human Development Index(2012)                       1.000000  "
      ]
     },
     "execution_count": 5,
     "metadata": {},
     "output_type": "execute_result"
    },
    {
     "data": {
      "image/png": "[encoded data removed]",
      "text/plain": [
       "<Figure size 432x288 with 1 Axes>"
      ]
     },
     "metadata": {},
     "output_type": "display_data"
    }
   ],
   "source": [
    "#IHD e Acesso básico a água\n",
    "#data_scatter_idh_water = data2.plot.scatter(x='Basic water(%)(2012)',y='Human Development Index(2012)')\n",
    "\n",
    "\n",
    "cov = data2[\"Basic water(%)(2012)\"].cov(data[\"Human Development Index(2012)\"])\n",
    "\n",
    "var_X = data2[\"Basic water(%)(2012)\"].var()\n",
    "var_Y = data2[\"Human Development Index(2012)\"].var()\n",
    "\n",
    "mX = data2[\"Basic water(%)(2012)\"].mean()\n",
    "mY = data2[\"Human Development Index(2012)\"].mean()\n",
    "\n",
    "a = cov / var_X\n",
    "b = mY - a*mX\n",
    "\n",
    "print('Ajuste linear entre agua basica e IDH:')\n",
    "print('Coeficiente linear:', b)\n",
    "print('Coeficiente angular:', a)\n",
    "\n",
    "data.plot.scatter(x='Basic water(%)(2012)', y='Human Development Index(2012)')\n",
    "\n",
    "plt.plot((data2[\"Basic water(%)(2012)\"].min(), data2[\"Basic water(%)(2012)\"].max()), \n",
    "         (a*data2[\"Basic water(%)(2012)\"].min() + b, a*data2[\"Basic water(%)(2012)\"].max() + b), color='red')\n",
    "\n",
    "plt.title('agua versus IDH')\n",
    "plt.xlabel('Basic water(%)(2012)')\n",
    "plt.ylabel('Human Development Index(2012)');\n",
    "\n",
    "data2.loc[:, [\"Basic water(%)(2012)\", \"Human Development Index(2012)\"]].corr()\n",
    "\n",
    "\n",
    "\n"
   ]
  },
  {
   "cell_type": "code",
   "execution_count": 6,
   "metadata": {},
   "outputs": [
    {
     "data": {
      "image/png": "[encoded data removed]",
      "text/plain": [
       "<Figure size 432x288 with 1 Axes>"
      ]
     },
     "metadata": {},
     "output_type": "display_data"
    }
   ],
   "source": [
    "plot = data2['Basic water(%)(2012)'].hist(density=True);\n",
    "plot.set_xlabel('Basic water(%)(2012)');"
   ]
  },
  {
   "cell_type": "code",
   "execution_count": 7,
   "metadata": {},
   "outputs": [
    {
     "name": "stdout",
     "output_type": "stream",
     "text": [
      "Ajuste linear entre agua basica e IDH:\n",
      "Coeficiente linear: 0.7308167124278507\n",
      "Coeficiente angular: 1.1672769625295608e-05\n"
     ]
    },
    {
     "data": {
      "text/html": [
       "<div>\n",
       "<style scoped>\n",
       "    .dataframe tbody tr th:only-of-type {\n",
       "        vertical-align: middle;\n",
       "    }\n",
       "\n",
       "    .dataframe tbody tr th {\n",
       "        vertical-align: top;\n",
       "    }\n",
       "\n",
       "    .dataframe thead th {\n",
       "        text-align: right;\n",
       "    }\n",
       "</style>\n",
       "<table border=\"1\" class=\"dataframe\">\n",
       "  <thead>\n",
       "    <tr style=\"text-align: right;\">\n",
       "      <th></th>\n",
       "      <th>Electricity Production PP(2012)</th>\n",
       "      <th>Human Development Index(2012)</th>\n",
       "    </tr>\n",
       "  </thead>\n",
       "  <tbody>\n",
       "    <tr>\n",
       "      <th>Electricity Production PP(2012)</th>\n",
       "      <td>1.000000</td>\n",
       "      <td>0.638955</td>\n",
       "    </tr>\n",
       "    <tr>\n",
       "      <th>Human Development Index(2012)</th>\n",
       "      <td>0.638955</td>\n",
       "      <td>1.000000</td>\n",
       "    </tr>\n",
       "  </tbody>\n",
       "</table>\n",
       "</div>"
      ],
      "text/plain": [
       "                                 Electricity Production PP(2012)  \\\n",
       "Electricity Production PP(2012)                         1.000000   \n",
       "Human Development Index(2012)                           0.638955   \n",
       "\n",
       "                                 Human Development Index(2012)  \n",
       "Electricity Production PP(2012)                       0.638955  \n",
       "Human Development Index(2012)                         1.000000  "
      ]
     },
     "execution_count": 7,
     "metadata": {},
     "output_type": "execute_result"
    },
    {
     "data": {
      "image/png": "[encoded data removed]",
      "text/plain": [
       "<Figure size 432x288 with 1 Axes>"
      ]
     },
     "metadata": {},
     "output_type": "display_data"
    }
   ],
   "source": [
    "#IDH e Produção de energia\n",
    "#data_scatter_idh_electricity = data2.plot.scatter(x='Electricity Production PP(2012)',y='Human Development Index(2012)')\n",
    "\n",
    "\n",
    "cov2 = data2[\"Electricity Production PP(2012)\"].cov(data[\"Human Development Index(2012)\"])\n",
    "\n",
    "var_X2 = data2[\"Electricity Production PP(2012)\"].var()\n",
    "var_Y2 = data2[\"Human Development Index(2012)\"].var()\n",
    "\n",
    "mX2 = data2[\"Electricity Production PP(2012)\"].mean()\n",
    "mY2 = data2[\"Human Development Index(2012)\"].mean()\n",
    "\n",
    "a2 = cov2 / var_X2\n",
    "b2 = mY2 - a2*mX2\n",
    "\n",
    "print('Ajuste linear entre agua basica e IDH:')\n",
    "print('Coeficiente linear:', b2)\n",
    "print('Coeficiente angular:', a2)\n",
    "\n",
    "data2.plot.scatter(x='Electricity Production PP(2012)', y='Human Development Index(2012)')\n",
    "\n",
    "plt.plot((data2[\"Electricity Production PP(2012)\"].min(), data2[\"Electricity Production PP(2012)\"].max()), \n",
    "         (a2*data2[\"Electricity Production PP(2012)\"].min() + b2, a2*data2[\"Electricity Production PP(2012)\"].max() + b2), color='red')\n",
    "\n",
    "plt.title('Produção de energia versus IDH')\n",
    "plt.xlabel('Electricity Production PP(2012)')\n",
    "plt.ylabel('Human Development Index(2012)');\n",
    "\n",
    "\n",
    "data2.loc[:, [\"Electricity Production PP(2012)\", \"Human Development Index(2012)\"]].corr()\n",
    "\n",
    "\n"
   ]
  },
  {
   "cell_type": "code",
   "execution_count": 8,
   "metadata": {},
   "outputs": [
    {
     "data": {
      "image/png": "[encoded data removed]",
      "text/plain": [
       "<Figure size 432x288 with 1 Axes>"
      ]
     },
     "metadata": {},
     "output_type": "display_data"
    }
   ],
   "source": [
    "plot = data2['Electricity Production PP(2012)'].hist(density=True);\n",
    "plot.set_xlabel('Electricity Production PP(2012)');"
   ]
  },
  {
   "cell_type": "code",
   "execution_count": 12,
   "metadata": {
    "scrolled": true
   },
   "outputs": [
    {
     "name": "stdout",
     "output_type": "stream",
     "text": [
      "Ajuste linear entre agua basica e IDH:\n",
      "Coeficiente linear: 0.7308167124278507\n",
      "Coeficiente angular: 1.1672769625295608e-05\n"
     ]
    },
    {
     "data": {
      "text/html": [
       "<div>\n",
       "<style scoped>\n",
       "    .dataframe tbody tr th:only-of-type {\n",
       "        vertical-align: middle;\n",
       "    }\n",
       "\n",
       "    .dataframe tbody tr th {\n",
       "        vertical-align: top;\n",
       "    }\n",
       "\n",
       "    .dataframe thead th {\n",
       "        text-align: right;\n",
       "    }\n",
       "</style>\n",
       "<table border=\"1\" class=\"dataframe\">\n",
       "  <thead>\n",
       "    <tr style=\"text-align: right;\">\n",
       "      <th></th>\n",
       "      <th>Electricity Production PP(2012)</th>\n",
       "      <th>Basic water(%)(2012)</th>\n",
       "    </tr>\n",
       "  </thead>\n",
       "  <tbody>\n",
       "    <tr>\n",
       "      <th>Electricity Production PP(2012)</th>\n",
       "      <td>1.000000</td>\n",
       "      <td>0.495625</td>\n",
       "    </tr>\n",
       "    <tr>\n",
       "      <th>Basic water(%)(2012)</th>\n",
       "      <td>0.495625</td>\n",
       "      <td>1.000000</td>\n",
       "    </tr>\n",
       "  </tbody>\n",
       "</table>\n",
       "</div>"
      ],
      "text/plain": [
       "                                 Electricity Production PP(2012)  \\\n",
       "Electricity Production PP(2012)                         1.000000   \n",
       "Basic water(%)(2012)                                    0.495625   \n",
       "\n",
       "                                 Basic water(%)(2012)  \n",
       "Electricity Production PP(2012)              0.495625  \n",
       "Basic water(%)(2012)                         1.000000  "
      ]
     },
     "execution_count": 12,
     "metadata": {},
     "output_type": "execute_result"
    },
    {
     "data": {
      "image/png": "[encoded data removed]",
      "text/plain": [
       "<Figure size 432x288 with 1 Axes>"
      ]
     },
     "metadata": {},
     "output_type": "display_data"
    }
   ],
   "source": [
    "#Produção de energia e Acesso básico a água\n",
    "#data_scatter_water_electricity = data2.plot.scatter(x='Electricity Production PP(2012)',y='Basic water(%)(2012)')\n",
    "\n",
    "cov3 = data2[\"Electricity Production PP(2012)\"].cov(data[\"Human Development Index(2012)\"])\n",
    "\n",
    "var_X3 = data2[\"Electricity Production PP(2012)\"].var()\n",
    "var_Y3 = data2[\"Human Development Index(2012)\"].var()\n",
    "\n",
    "mX3 = data2[\"Electricity Production PP(2012)\"].mean()\n",
    "mY3 = data2[\"Human Development Index(2012)\"].mean()\n",
    "\n",
    "a3 = cov3 / var_X3\n",
    "b3 = mY3 - a3*mX3\n",
    "\n",
    "print('Ajuste linear entre agua basica e IDH:')\n",
    "print('Coeficiente linear:', b3)\n",
    "print('Coeficiente angular:', a3)\n",
    "\n",
    "\n",
    "data2.plot.scatter(x='Electricity Production PP(2012)', y='Basic water(%)(2012)')\n",
    "\n",
    "plt.plot((data2[\"Electricity Production PP(2012)\"].min(), data2[\"Electricity Production PP(2012)\"].max()), \n",
    "         (a3*data2[\"Electricity Production PP(2012)\"].min() + b3, a3*data2[\"Electricity Production PP(2012)\"].max() + b3), color='red')\n",
    "\n",
    "plt.title('Produção de energia versus acesso básico a água')\n",
    "plt.xlabel('Electricity Production PP(2012)')\n",
    "plt.ylabel('Basic water(%)(2012)');\n",
    "\n",
    "data2.loc[:, [\"Electricity Production PP(2012)\", \"Basic water(%)(2012)\"]].corr()\n",
    "\n"
   ]
  },
  {
   "cell_type": "code",
   "execution_count": 10,
   "metadata": {},
   "outputs": [
    {
     "data": {
      "image/png": "[encoded data removed]",
      "text/plain": [
       "<Figure size 432x288 with 1 Axes>"
      ]
     },
     "metadata": {},
     "output_type": "display_data"
    }
   ],
   "source": [
    "plot = data2['Human Development Index(2012)'].hist(density=True);\n",
    "plot.set_xlabel('Human Development Index(2012)');"
   ]
  },
  {
   "cell_type": "markdown",
   "metadata": {},
   "source": [
    "Conclusão:\n",
    "\n",
    "    A partir do gráfico que compara o acesso básico a água, com o IDH, pudemos observar que existe uma relação positiva entre ambos os dados. Ou seja, quanto mais acesso a água uma certa população tem, maior será o IDH deste país. Além disso os números de correlação entre as duas variáveis se encontram bastante próximos, relativamente (0.74), demonstrando que os dados estão proximamente relacionados.O histograma do acesso a água nos mostra que em geral os países analisados possuem este acesso a água, fazendo com que poucos países não o tenham.\n",
    "    Já o gráfico relacionando a produção de energia, com o IDH nos mostrou que esta produção por pessoa de energia possui relação em partes com o IDH, pois países com o índices de desenvolvimento maiores tendem a produzir pelo menos um pouco de energia(medida por pessoa,ou seja maior que 0 pessoas), pórem não necessariamente quanto maior for o IDH de uma população, maior será a sua produção de energia(O histograma sobre a produção de energia nos mostrou exatamente isto, que a maioria dos país produzem entre 0-10000 PP). A força de correlação entre ambas as variáveis é relativamente alta (0.63), mostrando que ainda existe uma correlação entre ambos. \n",
    "    Nosso ultimo gráfico nos mostrou que a relação entre a produção de energia e o acesso a água é baixa (tendo um número de correlação menor que os outros calculados, de 0,49). Pois observamos que independente da produção de energia, a faixa de acesso básico a água será sempre a mesma( entre 80 e 100%).\n",
    "    O ultimo histograma nos mostra que dentre os países analizados, um menor número possuem IDH baixo, quando comparados com IDH's médios e altos (entre 0.65 e 0.95).\n",
    "    Podemos concluir que como esperado por minha parte, o acesso básico a água possui grande relação com o índice de desenvolvimento de um páis.Pórem como não esperado por mim, países com alta produção de energia não necessariamente possuem IHD's altíssimos. E podemos também responder que as variáveis acesso a água e produção de energia possuem uma correlação média entre si.\n",
    "\n",
    "\n",
    "    \n",
    "    \n",
    "\n",
    "\n",
    "\n",
    "    \n",
    "    \n",
    "    \n",
    "\n"
   ]
  },
  {
   "cell_type": "code",
   "execution_count": null,
   "metadata": {},
   "outputs": [],
   "source": []
  }
 ],
 "metadata": {
  "kernelspec": {
   "display_name": "Python 3",
   "language": "python",
   "name": "python3"
  },
  "language_info": {
   "codemirror_mode": {
    "name": "ipython",
    "version": 3
   },
   "file_extension": ".py",
   "mimetype": "text/x-python",
   "name": "python",
   "nbconvert_exporter": "python",
   "pygments_lexer": "ipython3",
   "version": "3.6.5"
  }
 },
 "nbformat": 4,
 "nbformat_minor": 2
}
