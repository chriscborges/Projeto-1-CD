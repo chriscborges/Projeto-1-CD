{
 "cells": [
  {
   "cell_type": "code",
   "execution_count": 35,
   "metadata": {},
   "outputs": [],
   "source": [
    "#Pergunta Problema:\n",
    "#    De que forma o acesso básico a água, e a geração de energia por pessoa afetam\n",
    "#  no IDH (índice de desenvolvimento humano) de um país? \n",
    "    "
   ]
  },
  {
   "cell_type": "code",
   "execution_count": 36,
   "metadata": {},
   "outputs": [],
   "source": [
    "#Importação das bibliotecas:\n",
    "%matplotlib inline\n",
    "import pandas as pd\n",
    "import numpy as np\n",
    "import math as math\n",
    "from scipy import stats\n",
    "import matplotlib.pyplot as plt"
   ]
  },
  {
   "cell_type": "code",
   "execution_count": 37,
   "metadata": {},
   "outputs": [],
   "source": [
    "#leitura dos arquivos em excel:\n",
    "#leitura dos arquivos em excel:\n",
    "hdi = pd.read_excel(\"hdi.xlsx\")\n",
    "water = pd.read_excel(\"water.xlsx\")\n",
    "electricity = pd.read_excel(\"electricity.xlsx\")\n",
    "\n",
    "\n",
    "#electricity.head(3)\n",
    "\n"
   ]
  },
  {
   "cell_type": "code",
   "execution_count": 38,
   "metadata": {},
   "outputs": [],
   "source": [
    "#escolha do ano para investigação\n",
    "\n",
    "hdi_2012 = hdi.loc[:, [\"geo\", 2012]]\n",
    "water_2012 = water.loc[:, [\"geo\", 2012]]\n",
    "electricity_2012 = electricity.loc[:, [\"geo\", 2012]]\n",
    "\n",
    "#electricity_2012.head(3)\n"
   ]
  },
  {
   "cell_type": "code",
   "execution_count": 39,
   "metadata": {},
   "outputs": [],
   "source": [
    "#Método Join()\n",
    "\n",
    "hdi_idx = hdi_2012.set_index(\"geo\")\n",
    "water_idx = water_2012.set_index(\"geo\")\n",
    "electricity_idx = electricity_2012.set_index(\"geo\")\n",
    "\n"
   ]
  },
  {
   "cell_type": "code",
   "execution_count": 41,
   "metadata": {},
   "outputs": [
    {
     "data": {
      "text/html": [
       "<div>\n",
       "<style scoped>\n",
       "    .dataframe tbody tr th:only-of-type {\n",
       "        vertical-align: middle;\n",
       "    }\n",
       "\n",
       "    .dataframe tbody tr th {\n",
       "        vertical-align: top;\n",
       "    }\n",
       "\n",
       "    .dataframe thead th {\n",
       "        text-align: right;\n",
       "    }\n",
       "</style>\n",
       "<table border=\"1\" class=\"dataframe\">\n",
       "  <thead>\n",
       "    <tr style=\"text-align: right;\">\n",
       "      <th></th>\n",
       "      <th>Human Development Index(2012)</th>\n",
       "      <th>Basic water(%)(2012)</th>\n",
       "      <th>2012</th>\n",
       "    </tr>\n",
       "    <tr>\n",
       "      <th>geo</th>\n",
       "      <th></th>\n",
       "      <th></th>\n",
       "      <th></th>\n",
       "    </tr>\n",
       "  </thead>\n",
       "  <tbody>\n",
       "    <tr>\n",
       "      <th>Algeria</th>\n",
       "      <td>0.737</td>\n",
       "      <td>92.8</td>\n",
       "      <td>1530</td>\n",
       "    </tr>\n",
       "    <tr>\n",
       "      <th>Argentina</th>\n",
       "      <td>0.823</td>\n",
       "      <td>99.5</td>\n",
       "      <td>3230</td>\n",
       "    </tr>\n",
       "    <tr>\n",
       "      <th>Australia</th>\n",
       "      <td>0.933</td>\n",
       "      <td>99.9</td>\n",
       "      <td>11000</td>\n",
       "    </tr>\n",
       "  </tbody>\n",
       "</table>\n",
       "</div>"
      ],
      "text/plain": [
       "           Human Development Index(2012)  Basic water(%)(2012)   2012\n",
       "geo                                                                  \n",
       "Algeria                            0.737                  92.8   1530\n",
       "Argentina                          0.823                  99.5   3230\n",
       "Australia                          0.933                  99.9  11000"
      ]
     },
     "execution_count": 41,
     "metadata": {},
     "output_type": "execute_result"
    }
   ],
   "source": [
    "my_data = hdi_idx.join(water_idx, how='inner', lsuffix='Human Development Index', rsuffix='Basic water(%)')\n",
    "my_data.head(7)\n",
    "data = my_data.join(electricity_idx, how=\"inner\")\n",
    "\n",
    "data.rename(columns={'2012Human Development Index': 'Human Development Index(2012)', '2012Basic water(%)': 'Basic water(%)(2012)',\"2012\":\"Electricity Production PP(2012)\"}, inplace=True)\n",
    "data.head(3)"
   ]
  },
  {
   "cell_type": "code",
   "execution_count": null,
   "metadata": {},
   "outputs": [],
   "source": []
  }
 ],
 "metadata": {
  "kernelspec": {
   "display_name": "Python 3",
   "language": "python",
   "name": "python3"
  },
  "language_info": {
   "codemirror_mode": {
    "name": "ipython",
    "version": 3
   },
   "file_extension": ".py",
   "mimetype": "text/x-python",
   "name": "python",
   "nbconvert_exporter": "python",
   "pygments_lexer": "ipython3",
   "version": "3.6.5"
  }
 },
 "nbformat": 4,
 "nbformat_minor": 2
}
